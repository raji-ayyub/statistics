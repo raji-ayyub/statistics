{
 "cells": [
  {
   "cell_type": "markdown",
   "id": "6ec9bbce",
   "metadata": {},
   "source": [
    "# Class task 5:\n",
    "- Chi Test\n",
    "- Anova\n",
    "- Two Tailed Test\n",
    "- Proportion Test\n"
   ]
  },
  {
   "cell_type": "markdown",
   "id": "bf477021",
   "metadata": {},
   "source": [
    "# The Chi Test"
   ]
  },
  {
   "cell_type": "markdown",
   "id": "06c546ce",
   "metadata": {},
   "source": [
    "- By Definition: Chi Test is a statistical method used to determine if there is a significant association between two categorical variables.\n",
    "\n",
    "### Types of Chi test\n",
    "#### Chi test has two primary types but with underlying base logic.\n",
    "1. Chi test of independence\n",
    "2. Object of fit test\n"
   ]
  },
  {
   "cell_type": "markdown",
   "id": "51e80ea9",
   "metadata": {},
   "source": [
    "#### Chi Test of Independence\n",
    "- This is used to assess two categorical data to see if they are independent on one another.\n",
    "- It is used when the data can be distributed with a contigency table.\n",
    "- Example: Testing if the sport preference of students is dependent on their department.\n",
    "- H0: the sport preference has no relationship with the students' department.\n",
    "- H1: the sport preference is dependent on the students' department.\n"
   ]
  },
  {
   "cell_type": "markdown",
   "id": "3a080c94",
   "metadata": {},
   "source": [
    "#### The Object of Fit Test\n",
    "- This is used to assess if the result of a single categorical variable aligns with the expected population data (theoretical claim)\n",
    "- Example: A vendor claims a marker pack contains 10red, 10blue and 5green each.\n",
    "- H0: The result does not match the claim\n",
    "- H1: The result matches the claim \n"
   ]
  },
  {
   "cell_type": "markdown",
   "id": "0e633430",
   "metadata": {},
   "source": [
    "### The Chi square \\sqr{X} formula:\n",
    "\n",
    "x = (O - E)^2 / E\n"
   ]
  }
 ],
 "metadata": {
  "language_info": {
   "name": "python"
  }
 },
 "nbformat": 4,
 "nbformat_minor": 5
}
